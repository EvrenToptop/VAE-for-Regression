{
 "cells": [
  {
   "cell_type": "code",
   "execution_count": 1,
   "metadata": {},
   "outputs": [
    {
     "data": {
      "text/html": [
       "<script>\n",
       "code_show=true; \n",
       "function code_toggle() {\n",
       " if (code_show){\n",
       " $('div.input').hide();\n",
       " } else {\n",
       " $('div.input').show();\n",
       " }\n",
       " code_show = !code_show\n",
       "} \n",
       "$( document ).ready(code_toggle);\n",
       "</script>\n",
       "<form action=\"javascript:code_toggle()\"><input type=\"submit\" value=\"Click here to toggle on/off the raw code.\"></form>"
      ],
      "text/plain": [
       "<IPython.core.display.HTML object>"
      ]
     },
     "execution_count": 1,
     "metadata": {},
     "output_type": "execute_result"
    }
   ],
   "source": [
    "from IPython.display import HTML\n",
    "\n",
    "HTML('''<script>\n",
    "code_show=true; \n",
    "function code_toggle() {\n",
    " if (code_show){\n",
    " $('div.input').hide();\n",
    " } else {\n",
    " $('div.input').show();\n",
    " }\n",
    " code_show = !code_show\n",
    "} \n",
    "$( document ).ready(code_toggle);\n",
    "</script>\n",
    "<form action=\"javascript:code_toggle()\"><input type=\"submit\" value=\"Click here to toggle on/off the raw code.\"></form>''')"
   ]
  },
  {
   "cell_type": "code",
   "execution_count": 2,
   "metadata": {},
   "outputs": [
    {
     "name": "stderr",
     "output_type": "stream",
     "text": [
      "/Users/wuzhejun/anaconda3/lib/python3.6/site-packages/h5py/__init__.py:36: FutureWarning: Conversion of the second argument of issubdtype from `float` to `np.floating` is deprecated. In future, it will be treated as `np.float64 == np.dtype(float).type`.\n",
      "  from ._conv import register_converters as _register_converters\n",
      "Using TensorFlow backend.\n"
     ]
    }
   ],
   "source": [
    "from __future__ import absolute_import\n",
    "from __future__ import division\n",
    "from __future__ import print_function\n",
    "\n",
    "from keras.layers import Lambda, Input, Dense, Reshape, RepeatVector, Dropout\n",
    "from keras.models import Model\n",
    "from keras.datasets import mnist\n",
    "from keras.losses import mse, binary_crossentropy\n",
    "from keras.utils import plot_model\n",
    "from keras import backend as K\n",
    "from keras.constraints import unit_norm, max_norm\n",
    "\n",
    "from scipy import stats\n",
    "import pandas as pd\n",
    "import numpy as np\n",
    "import matplotlib\n",
    "import matplotlib.pyplot as plt\n",
    "import argparse\n",
    "import os\n",
    "from sklearn.manifold import MDS\n",
    "from sklearn.model_selection import StratifiedKFold\n",
    "from sklearn.metrics import mean_squared_error, r2_score"
   ]
  },
  {
   "cell_type": "code",
   "execution_count": 3,
   "metadata": {},
   "outputs": [],
   "source": [
    "from mpl_toolkits.mplot3d import Axes3D\n",
    "\n",
    "# reparameterization trick\n",
    "# instead of sampling from Q(z|X), sample eps = N(0,I)\n",
    "# z = z_mean + sqrt(var)*eps\n",
    "def sampling(args):\n",
    "    \"\"\"Reparameterization trick by sampling fr an isotropic unit Gaussian.\n",
    "    # Arguments:\n",
    "        args (tensor): mean and log of variance of Q(z|X)\n",
    "    # Returns:\n",
    "        z (tensor): sampled latent vector\n",
    "    \"\"\"\n",
    "\n",
    "    z_mean, z_log_var = args\n",
    "    batch = K.shape(z_mean)[0]\n",
    "    dim = K.int_shape(z_mean)[1]\n",
    "    # by default, random_normal has mean=0 and std=1.0\n",
    "    epsilon = K.random_normal(shape=(batch, dim))\n",
    "    thre = K.random_uniform(shape=(batch,1))\n",
    "    return z_mean + K.exp(0.5 * z_log_var) * epsilon"
   ]
  },
  {
   "cell_type": "code",
   "execution_count": 4,
   "metadata": {},
   "outputs": [],
   "source": [
    "# Load Toy Example Data\n",
    "training_feature = np.loadtxt('X.txt')\n",
    "training_feature.shape\n",
    "\n",
    "Y = np.loadtxt('Y.txt')\n",
    "ground_truth_r = Y\n",
    "\n",
    "np.random.seed(seed=0)\n",
    "\n",
    "original_dim = training_feature.shape[1]\n",
    "num_train = training_feature.shape[0]"
   ]
  },
  {
   "cell_type": "code",
   "execution_count": 5,
   "metadata": {},
   "outputs": [
    {
     "name": "stdout",
     "output_type": "stream",
     "text": [
      "__________________________________________________________________________________________________\n",
      "Layer (type)                    Output Shape         Param #     Connected to                     \n",
      "==================================================================================================\n",
      "encoder_input (InputLayer)      (None, 301)          0                                            \n",
      "__________________________________________________________________________________________________\n",
      "dropout_1 (Dropout)             (None, 301)          0           encoder_input[0][0]              \n",
      "__________________________________________________________________________________________________\n",
      "encoder_intermediate (Dense)    (None, 128)          38656       dropout_1[0][0]                  \n",
      "__________________________________________________________________________________________________\n",
      "encoder_intermediate_2 (Dense)  (None, 32)           4128        encoder_intermediate[0][0]       \n",
      "__________________________________________________________________________________________________\n",
      "r_mean (Dense)                  (None, 1)            33          encoder_intermediate_2[0][0]     \n",
      "__________________________________________________________________________________________________\n",
      "r_log_var (Dense)               (None, 1)            33          encoder_intermediate_2[0][0]     \n",
      "__________________________________________________________________________________________________\n",
      "z_mean (Dense)                  (None, 8)            264         encoder_intermediate_2[0][0]     \n",
      "__________________________________________________________________________________________________\n",
      "z_log_var (Dense)               (None, 8)            264         encoder_intermediate_2[0][0]     \n",
      "__________________________________________________________________________________________________\n",
      "r (Lambda)                      (None, 1)            0           r_mean[0][0]                     \n",
      "                                                                 r_log_var[0][0]                  \n",
      "__________________________________________________________________________________________________\n",
      "z (Lambda)                      (None, 8)            0           z_mean[0][0]                     \n",
      "                                                                 z_log_var[0][0]                  \n",
      "__________________________________________________________________________________________________\n",
      "pz_mean (Dense)                 (None, 8)            16          r[0][0]                          \n",
      "==================================================================================================\n",
      "Total params: 43,394\n",
      "Trainable params: 43,394\n",
      "Non-trainable params: 0\n",
      "__________________________________________________________________________________________________\n",
      "_________________________________________________________________\n",
      "Layer (type)                 Output Shape              Param #   \n",
      "=================================================================\n",
      "z_sampling (InputLayer)      (None, 8)                 0         \n",
      "_________________________________________________________________\n",
      "dense_1 (Dense)              (None, 32)                288       \n",
      "_________________________________________________________________\n",
      "dense_2 (Dense)              (None, 128)               4224      \n",
      "_________________________________________________________________\n",
      "dense_3 (Dense)              (None, 301)               38829     \n",
      "=================================================================\n",
      "Total params: 43,341\n",
      "Trainable params: 43,341\n",
      "Non-trainable params: 0\n",
      "_________________________________________________________________\n",
      "__________________________________________________________________________________________________\n",
      "Layer (type)                    Output Shape         Param #     Connected to                     \n",
      "==================================================================================================\n",
      "encoder_input (InputLayer)      (None, 301)          0                                            \n",
      "__________________________________________________________________________________________________\n",
      "ground_truth (InputLayer)       (None, 1)            0                                            \n",
      "__________________________________________________________________________________________________\n",
      "encoder (Model)                 [(None, 8), (None, 8 43394       encoder_input[0][0]              \n",
      "                                                                 ground_truth[0][0]               \n",
      "__________________________________________________________________________________________________\n",
      "decoder (Model)                 (None, 301)          43341       encoder[1][2]                    \n",
      "==================================================================================================\n",
      "Total params: 86,735\n",
      "Trainable params: 86,735\n",
      "Non-trainable params: 0\n",
      "__________________________________________________________________________________________________\n"
     ]
    }
   ],
   "source": [
    "## Build VAE-Regression Model\n",
    "input_shape_x = (original_dim, )\n",
    "input_shape_r = (1, )\n",
    "\n",
    "intermediate_dim = 32\n",
    "batch_size = 64\n",
    "latent_dim = 8\n",
    "epochs = 100\n",
    "\n",
    "# VAE model = encoder + decoder\n",
    "# build encoder model\n",
    "inputs_r = Input(shape=input_shape_r, name='ground_truth')\n",
    "inputs_x = Input(shape=input_shape_x, name='encoder_input')\n",
    "inputs_x_dropout = Dropout(0.25)(inputs_x)\n",
    "\n",
    "inter_x1 = Dense(128, activation='tanh', name='encoder_intermediate')(inputs_x_dropout)\n",
    "inter_x2 = Dense(intermediate_dim, activation='tanh', name='encoder_intermediate_2')(inter_x1)\n",
    "\n",
    "# posterior on Y; probablistic regressor\n",
    "r_mean = Dense(1, name='r_mean')(inter_x2)\n",
    "r_log_var = Dense(1, name='r_log_var')(inter_x2)\n",
    "\n",
    "# q(z|x)\n",
    "z_mean = Dense(latent_dim, name='z_mean')(inter_x2)\n",
    "z_log_var = Dense(latent_dim, name='z_log_var')(inter_x2)\n",
    "\n",
    "# use reparameterization trick to push the sampling out as input\n",
    "z = Lambda(sampling, output_shape=(latent_dim,), name='z')([z_mean, z_log_var])\n",
    "r = Lambda(sampling, output_shape=(1,), name='r')([r_mean, r_log_var])\n",
    "\n",
    "# latent generator (simplified)\n",
    "pz_mean = Dense(latent_dim, name='pz_mean',kernel_constraint=unit_norm())(r)\n",
    "# pz_log_var = Dense(1, name='pz_log_var')(r)\n",
    "\n",
    "# instantiate encoder model\n",
    "encoder = Model([inputs_x,inputs_r], [z_mean, z_log_var, z, r_mean, r_log_var, r, pz_mean], name='encoder')\n",
    "encoder.summary()\n",
    "\n",
    "# build decoder model\n",
    "latent_inputs = Input(shape=(latent_dim,), name='z_sampling')\n",
    "inter_y1 = Dense(intermediate_dim, activation='tanh')(latent_inputs)\n",
    "inter_y2 = Dense(128, activation='tanh')(inter_y1)\n",
    "outputs = Dense(original_dim)(inter_y2)\n",
    "\n",
    "# instantiate decoder model\n",
    "decoder = Model(latent_inputs, outputs, name='decoder')\n",
    "decoder.summary()\n",
    "#plot_model(decoder, to_file='vae_mlp_decoder.png', show_shapes=True)\n",
    "\n",
    "# instantiate VAE model\n",
    "outputs = decoder(encoder([inputs_x,inputs_r])[2])\n",
    "vae = Model([inputs_x,inputs_r], outputs, name='vae_mlp')\n",
    "vae.summary()"
   ]
  },
  {
   "cell_type": "code",
   "execution_count": 6,
   "metadata": {},
   "outputs": [
    {
     "name": "stdout",
     "output_type": "stream",
     "text": [
      "__________________________________________________________________________________________________\n",
      "Layer (type)                    Output Shape         Param #     Connected to                     \n",
      "==================================================================================================\n",
      "encoder_input (InputLayer)      (None, 301)          0                                            \n",
      "__________________________________________________________________________________________________\n",
      "ground_truth (InputLayer)       (None, 1)            0                                            \n",
      "__________________________________________________________________________________________________\n",
      "encoder (Model)                 [(None, 8), (None, 8 43394       encoder_input[0][0]              \n",
      "                                                                 ground_truth[0][0]               \n",
      "__________________________________________________________________________________________________\n",
      "decoder (Model)                 (None, 301)          43341       encoder[1][2]                    \n",
      "==================================================================================================\n",
      "Total params: 86,735\n",
      "Trainable params: 86,735\n",
      "Non-trainable params: 0\n",
      "__________________________________________________________________________________________________\n"
     ]
    }
   ],
   "source": [
    "##Customize Lost Function of the VAE Model\n",
    "models = (encoder, decoder)\n",
    "\n",
    "#reconstruction_loss = K.tf.divide(0.5*K.sum(K.square(inputs_x-outputs), axis=-1), K.exp(outputs_var)) + 0.5*original_dim*outputs_var\n",
    "reconstruction_loss = mse(inputs_x,outputs)\n",
    "#kl_loss = 1 + z_log_var - pz_log_var - K.tf.divide(K.square(z_mean-pz_mean),K.exp(pz_log_var)) - K.tf.divide(K.exp(z_log_var),K.exp(pz_log_var))\n",
    "kl_loss = 1 + z_log_var - K.square(z_mean-pz_mean) - K.exp(z_log_var)\n",
    "kl_loss = -0.5*K.sum(kl_loss, axis=-1)\n",
    "label_loss = K.tf.divide(0.5*K.square(r_mean - inputs_r), K.exp(r_log_var)) +  0.5 * r_log_var\n",
    "\n",
    "vae_loss = K.mean(reconstruction_loss+kl_loss+label_loss)\n",
    "\n",
    "vae.add_loss(vae_loss)\n",
    "vae.compile(optimizer='adam')\n",
    "vae.summary()\n",
    "vae.save_weights('random_weights.h5')"
   ]
  },
  {
   "cell_type": "code",
   "execution_count": 7,
   "metadata": {},
   "outputs": [],
   "source": [
    "## Train the network\n",
    "np.random.seed(0)\n",
    "skf = StratifiedKFold(n_splits=10)\n",
    "pred = np.zeros((ground_truth_r.shape))\n",
    "fake = np.zeros((ground_truth_r.shape[0]))\n",
    "fake[:300] = 1\n",
    "\n",
    "# Run 5-fold CV\n",
    "for train_idx, test_idx in skf.split(training_feature,fake):\n",
    "    training_feature_sk = training_feature[train_idx,:]\n",
    "    training_score = ground_truth_r[train_idx]\n",
    "    \n",
    "    testing_feature_sk = training_feature[test_idx,:]\n",
    "    testing_score = ground_truth_r[test_idx]    \n",
    "    \n",
    "    vae.load_weights('random_weights.h5')\n",
    "    vae.fit([training_feature_sk,training_score],\n",
    "             epochs=epochs,\n",
    "             batch_size=batch_size,\n",
    "             verbose = 0)\n",
    "    \n",
    "    [z_mean, z_log_var, z, r_mean, r_log_var, r_vae, pz_mean] = encoder.predict([testing_feature_sk,testing_score],batch_size=batch_size)\n",
    "    pred[test_idx] = r_mean[:,0]\n",
    "    "
   ]
  },
  {
   "cell_type": "code",
   "execution_count": 8,
   "metadata": {},
   "outputs": [
    {
     "name": "stdout",
     "output_type": "stream",
     "text": [
      "Mean squared error: 0.358\n",
      "R2 Variance score: 0.641\n"
     ]
    },
    {
     "data": {
      "image/png": "[encoded data removed]",
      "text/plain": [
       "<matplotlib.figure.Figure at 0x1198e07f0>"
      ]
     },
     "metadata": {},
     "output_type": "display_data"
    }
   ],
   "source": [
    "## Validation\n",
    "# The mean squared error\n",
    "print(\"Mean squared error: %.3f\" % mean_squared_error(ground_truth_r, pred))\n",
    "# Explained variance score: 1 is perfect prediction\n",
    "print('R2 Variance score: %.3f' % r2_score(ground_truth_r, pred))\n",
    "\n",
    "# Plot Prediction vs. Ground-truth Y\n",
    "fig = plt.figure()\n",
    "ax = fig.add_subplot(111)\n",
    "\n",
    "ax.scatter(ground_truth_r, pred,  color='black')\n",
    "plt.xlabel('ground truth')\n",
    "plt.ylabel('prediction truth')\n",
    "ax.axis('equal');"
   ]
  },
  {
   "cell_type": "code",
   "execution_count": 9,
   "metadata": {},
   "outputs": [
    {
     "data": {
      "text/plain": [
       "(-4.876583864295159,\n",
       " 6.274853986551141,\n",
       " -0.8972894163755847,\n",
       " 0.9186161641912578)"
      ]
     },
     "execution_count": 9,
     "metadata": {},
     "output_type": "execute_result"
    },
    {
     "data": {
      "image/png": "[encoded data removed]",
      "text/plain": [
       "<matplotlib.figure.Figure at 0x11a886860>"
      ]
     },
     "metadata": {},
     "output_type": "display_data"
    }
   ],
   "source": [
    "## Visualize Latent Space\n",
    "vae.load_weights('random_weights.h5')\n",
    "vae.fit([training_feature,ground_truth_r],\n",
    "         epochs=epochs,\n",
    "         batch_size=batch_size,\n",
    "         verbose = 0)\n",
    " \n",
    "[z_mean, z_log_var, z, r_mean, r_log_var, r_vae, pz_mean] = encoder.predict([training_feature,ground_truth_r],batch_size=batch_size)\n",
    "\n",
    "tsne = MDS(n_components=2, random_state=0)\n",
    "X_2d = tsne.fit_transform(z_mean)\n",
    "\n",
    "#%matplotlib notebook\n",
    "fig = plt.figure()\n",
    "ax = fig.add_subplot(111)\n",
    "ax.scatter(X_2d[:, 0], X_2d[:, 1], c=ground_truth_r)\n",
    "plt.title('TSNE visualization of latent space')\n",
    "ax.axis('equal')\n"
   ]
  },
  {
   "cell_type": "code",
   "execution_count": null,
   "metadata": {},
   "outputs": [],
   "source": []
  }
 ],
 "metadata": {
  "kernelspec": {
   "display_name": "Python 3",
   "language": "python",
   "name": "python3"
  },
  "language_info": {
   "codemirror_mode": {
    "name": "ipython",
    "version": 3
   },
   "file_extension": ".py",
   "mimetype": "text/x-python",
   "name": "python",
   "nbconvert_exporter": "python",
   "pygments_lexer": "ipython3",
   "version": "3.6.4"
  }
 },
 "nbformat": 4,
 "nbformat_minor": 2
}
